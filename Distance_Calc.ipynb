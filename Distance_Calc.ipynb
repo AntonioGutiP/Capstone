{
 "cells": [
  {
   "cell_type": "markdown",
   "metadata": {},
   "source": [
    "## Map Distance Creation"
   ]
  },
  {
   "cell_type": "markdown",
   "metadata": {},
   "source": [
    "Code to make the distance metric for the Cannibalism feature."
   ]
  },
  {
   "cell_type": "code",
   "execution_count": null,
   "metadata": {},
   "outputs": [],
   "source": [
    "import pandas as pd\n",
    "import numpy as np\n",
    "import googlemaps\n",
    "from datetime import datetime\n",
    "from tqdm import tqdm"
   ]
  },
  {
   "cell_type": "code",
   "execution_count": null,
   "metadata": {},
   "outputs": [],
   "source": [
    "# Initialize Google Maps client\n",
    "gmaps = googlemaps.Client(key='Insert API Key')\n",
    "\n",
    "# Function to get distance and duration from Google Maps API\n",
    "def get_distance_duration(lat1, lon1, lat2, lon2):\n",
    "    now = datetime.now()\n",
    "    directions_result = gmaps.directions(f\"{lat1}, {lon1}\", f\"{lat2}, {lon2}\",\n",
    "                                         mode=\"driving\", avoid=\"ferries\", departure_time=now)\n",
    "    \n",
    "    if directions_result:\n",
    "        distance = directions_result[0]['legs'][0]['distance']['text']\n",
    "        duration = directions_result[0]['legs'][0]['duration']['text']\n",
    "    else:\n",
    "        distance = \"N/A\"\n",
    "        duration = \"N/A\"\n",
    "    return distance, duration\n",
    "\n",
    "# Iterate through all pairs of coordinates\n",
    "distances = []\n",
    "durations = []\n",
    "\n",
    "for i in tqdm(range(len(dir))):\n",
    "    lat1 = dir.loc[i, 'Latitud']\n",
    "    lon1 = dir.loc[i, 'Longitud']\n",
    "    for j in range(len(dir)):\n",
    "        if i != j:\n",
    "            lat2 = dir.loc[j, 'Latitud']\n",
    "            lon2 = dir.loc[j, 'Longitud']\n",
    "            distance, duration = get_distance_duration(lat1, lon1, lat2, lon2)\n",
    "            distances.append(distance)\n",
    "            durations.append(duration)\n",
    "        else:\n",
    "            distances.append(\"0 km\")\n",
    "            durations.append(\"0 mins\")\n",
    "\n",
    "# Reshape the results to a matrix form\n",
    "distance_matrix = pd.DataFrame(np.array(distances).reshape(len(dir), len(dir)))\n",
    "duration_matrix = pd.DataFrame(np.array(durations).reshape(len(dir), len(dir))\n"
   ]
  },
  {
   "cell_type": "code",
   "execution_count": null,
   "metadata": {},
   "outputs": [],
   "source": [
    "print(distance_matrix)\n",
    "print(duration_matrix)"
   ]
  },
  {
   "cell_type": "code",
   "execution_count": null,
   "metadata": {},
   "outputs": [],
   "source": [
    "distance_matrix = pd.DataFrame(np.array(distances).reshape(len(dir), len(dir)))\n",
    "duration_matrix = pd.DataFrame(np.array(durations).reshape(len(dir), len(dir)))\n",
    "\n",
    "# Create the connections dataframe\n",
    "connections = []\n",
    "\n",
    "for i in range(len(dir)):\n",
    "    lat1 = dir.loc[i, 'Latitud']\n",
    "    lon1 = dir.loc[i, 'Longitud']\n",
    "    loc1 = dir.loc[i, 'Location']\n",
    "    for j in range(len(dir)):\n",
    "        lat2 = dir.loc[j, 'Latitud']\n",
    "        lon2 = dir.loc[j, 'Longitud']\n",
    "        loc2 = dir.loc[j, 'Location']\n",
    "        distance = distance_matrix.iloc[i, j]\n",
    "        duration = duration_matrix.iloc[i, j]\n",
    "        connections.append({\n",
    "            'From_Latitud': lat1,\n",
    "            'From_Longitud': lon1,\n",
    "            'From_Location': loc1,\n",
    "            'To_Latitud': lat2,\n",
    "            'To_Longitud': lon2,\n",
    "            'To_Location': loc2,\n",
    "            'Distance': distance,\n",
    "            'Duration': duration\n",
    "        })\n",
    "\n",
    "connections_df = pd.DataFrame(connections)"
   ]
  },
  {
   "cell_type": "code",
   "execution_count": null,
   "metadata": {},
   "outputs": [],
   "source": [
    "connections_df['min'] = connections_df['Duration'].str.extract('(\\d+)').astype(int)\n",
    "connections_df['km'] = connections_df['Distance'].str.extract('(\\d+)').astype(float)\n"
   ]
  },
  {
   "cell_type": "code",
   "execution_count": null,
   "metadata": {},
   "outputs": [],
   "source": [
    "connections_df = connections_df[(connections_df['km'] != 0) & (connections_df['min'] != 0)]\n",
    "connections_df"
   ]
  },
  {
   "cell_type": "code",
   "execution_count": null,
   "metadata": {},
   "outputs": [],
   "source": [
    "selected_rows = connections_df[(connections_df['km']< 40) & (connections_df['min']<= 24)]\n",
    "selected_rows"
   ]
  }
 ],
 "metadata": {
  "language_info": {
   "name": "python"
  }
 },
 "nbformat": 4,
 "nbformat_minor": 2
}
